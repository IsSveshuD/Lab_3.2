{
 "cells": [
  {
   "cell_type": "markdown",
   "id": "af287dcd",
   "metadata": {},
   "source": [
    "Уплотнить заданную матрицу, удаляя из нее строки и столбцы, заполненные нулями. Найти\n",
    "номер первой из строк, содержащих хотя бы один положительный элемент."
   ]
  },
  {
   "cell_type": "code",
   "execution_count": 42,
   "id": "5a7bcd7d",
   "metadata": {},
   "outputs": [
    {
     "name": "stdout",
     "output_type": "stream",
     "text": [
      "[[1 1 0 1 1]\n",
      " [1 0 1 1 1]\n",
      " [1 0 1 1 1]\n",
      " [1 0 1 1 1]\n",
      " [1 0 1 1 1]\n",
      " [1 0 1 1 1]\n",
      " [1 0 0 0 0]\n",
      " [1 0 1 1 1]]\n",
      "Строка вхождения первого положительного элемента:  1\n"
     ]
    }
   ],
   "source": [
    "import numpy as np\n",
    "m = np.array([[0, 0, 1, 1, 0, 0, 1, 0, 1, 0],\n",
    "             [0, 0, 1, 0, 1, 0, 1, 0, 1, 0],\n",
    "             [0, 0, 1, 0, 1, 0, 1, 0, 1, 0],\n",
    "             [0, 0, 0, 0, 0, 0, 0, 0, 0, 0],\n",
    "             [0, 0, 1, 0, 1, 0, 1, 0, 1, 0],\n",
    "             [0, 0, 1, 0, 1, 0, 1, 0, 1, 0],\n",
    "             [0, 0, 0, 0, 0, 0, 0, 0, 0, 0],\n",
    "             [0, 0, 1, 0, 1, 0, 1, 0, 1, 0],\n",
    "             [0, 0, 1, 0, 0, 0, 0, 0, 0, 0],\n",
    "             [0, 0, 1, 0, 1, 0, 1, 0, 1, 0]])\n",
    "idx = np.all(m==0, axis=0)\n",
    "a = np.delete(m, np.nonzero(idx), axis=1)\n",
    "idx = np.all(a==0, axis=1)\n",
    "a = np.delete(a, np.nonzero(idx), axis=0)\n",
    "print(a)\n",
    "b = np.where(m > 0)[0][0]\n",
    "print(\"Строка вхождения первого положительного элемента: \", b+1)"
   ]
  },
  {
   "cell_type": "code",
   "execution_count": null,
   "id": "fd16b193",
   "metadata": {},
   "outputs": [],
   "source": []
  }
 ],
 "metadata": {
  "kernelspec": {
   "display_name": "Python 3 (ipykernel)",
   "language": "python",
   "name": "python3"
  },
  "language_info": {
   "codemirror_mode": {
    "name": "ipython",
    "version": 3
   },
   "file_extension": ".py",
   "mimetype": "text/x-python",
   "name": "python",
   "nbconvert_exporter": "python",
   "pygments_lexer": "ipython3",
   "version": "3.10.9"
  }
 },
 "nbformat": 4,
 "nbformat_minor": 5
}
