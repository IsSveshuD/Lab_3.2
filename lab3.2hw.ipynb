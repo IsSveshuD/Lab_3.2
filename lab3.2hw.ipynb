{
 "cells": [
  {
   "cell_type": "markdown",
   "metadata": {},
   "source": [
    "# Лабораторная работа 3.2. Домашнее задание"
   ]
  },
  {
   "cell_type": "markdown",
   "metadata": {},
   "source": [
    "### Задание №1"
   ]
  },
  {
   "cell_type": "markdown",
   "metadata": {},
   "source": [
    "Создайте два массива: в первом должны быть четные числа от 2 до 12 включительно, а в другом числа 7, 11, 15, 18, 23, 29."
   ]
  },
  {
   "cell_type": "markdown",
   "metadata": {},
   "source": [
    "$1.$ Сложите массивы и возведите элементы получившегося массива в квадрат:"
   ]
  },
  {
   "cell_type": "code",
   "execution_count": 3,
   "metadata": {
    "jupyter": {
     "outputs_hidden": true
    }
   },
   "outputs": [
    {
     "name": "stdout",
     "output_type": "stream",
     "text": [
      "(a + b)^2: [  81  225  441  676 1089 1681]\n"
     ]
    }
   ],
   "source": [
    "import numpy as np\n",
    "a = np.array([2, 4, 6, 8, 10, 12])\n",
    "b = np.array([7, 11, 15, 18, 23, 29])\n",
    "print(\"(a + b)^2:\", (a+b)**2)"
   ]
  },
  {
   "cell_type": "markdown",
   "metadata": {},
   "source": [
    "$2.$ Выведите все элементы из первого массива, индексы которых соответствуют индексам тех элементов второго массива, которые больше 12 и дают остаток 3 при делении на 5."
   ]
  },
  {
   "cell_type": "code",
   "execution_count": 4,
   "metadata": {
    "jupyter": {
     "outputs_hidden": true
    }
   },
   "outputs": [
    {
     "name": "stdout",
     "output_type": "stream",
     "text": [
      "[ 8 10]\n"
     ]
    }
   ],
   "source": [
    "print(a[(b > 12) & (b%5==3)])"
   ]
  },
  {
   "cell_type": "markdown",
   "metadata": {},
   "source": [
    "*3.* Проверьте условие \"Элементы первого массива делятся на 4, элементы второго массива меньше 14\". (Подсказка: в результате должен получиться массив с True и False)"
   ]
  },
  {
   "cell_type": "code",
   "execution_count": 7,
   "metadata": {
    "jupyter": {
     "outputs_hidden": true
    }
   },
   "outputs": [
    {
     "name": "stdout",
     "output_type": "stream",
     "text": [
      "[False  True False False False False]\n"
     ]
    }
   ],
   "source": [
    "print((a%4==0) & (b<14))"
   ]
  },
  {
   "cell_type": "markdown",
   "metadata": {},
   "source": [
    "### Задание №2"
   ]
  },
  {
   "cell_type": "markdown",
   "metadata": {},
   "source": [
    "* Найдите интересный для вас датасет. Например, можно выбрать датасет тут. http://data.un.org/Explorer.aspx (выбираете датасет, жмете на view data, потом download, выбирайте csv формат)\n",
    "* Рассчитайте подходящие описательные статистики для признаков объектов в выбранном датасете\n",
    "* Проанализируйте и прокомментируйте содержательно получившиеся результаты\n",
    "* Все комментарии оформляйте строго в ячейках формата markdown\n",
    "    "
   ]
  },
  {
   "cell_type": "markdown",
   "metadata": {},
   "source": [
    "Для выполнения задания был выбран датасет, по прогнозируемому числу жителей в России до 2100 года."
   ]
  },
  {
   "cell_type": "code",
   "execution_count": 84,
   "metadata": {
    "scrolled": true
   },
   "outputs": [
    {
     "name": "stdout",
     "output_type": "stream",
     "text": [
      "Описательные статистики общего числа жителей\n",
      "\n",
      "Максимальное число жителей:  162441.155\n",
      "Среднее число жителей:  147337.055\n",
      "Минимальное число жителей:  143258.068\n",
      "Среднее отклонение числа жителей:  5393.453\n",
      "\n",
      "Описательные статистики рождаемости\n",
      "\n",
      "Максимальная рождаемость:  144713.314\n",
      "Средняя постоянная рожаемость:  120630.861\n",
      "Минимальная рождаемость:  94000.181\n",
      "Среднее отклонение рождаемости:  15702.513\n",
      "\n",
      "Описательные статистики смертности\n",
      "\n",
      "Максимальная смертность:  144713.314\n",
      "Средняя постоянная смертность:  112912.371\n",
      "Минимальная смертность:  89460.587\n",
      "Среднее отклонение смертности:  16587.278\n"
     ]
    }
   ],
   "source": [
    "import csv\n",
    "import numpy as np\n",
    "\n",
    "with open('human.csv', newline='') as file:\n",
    "    reader = csv.DictReader(file)\n",
    "    data = [row for row in reader]\n",
    "\n",
    "value = np.array([float(row['Value']) for row in data])\n",
    "variant = np.array([str(row['Variant']) for row in data])\n",
    "\n",
    "print(f\"Описательные статистики общего числа жителей\")\n",
    "print(f\"\\nМаксимальное число жителей: \",np.max(value[(variant == \"High\")]))\n",
    "print(f\"Среднее число жителей: \",round(np.mean(value[(variant == \"High\")]), 3))\n",
    "print(f\"Минимальное число жителей: \",np.min(value[(variant == \"High\")]))\n",
    "print(f\"Среднее отклонение числа жителей: \",round(np.std(value[(variant == \"High\")]), 3))\n",
    "\n",
    "print(f\"\\nОписательные статистики рождаемости\")\n",
    "print(f\"\\nМаксимальная рождаемость: \",np.max(value[(variant == \"Constant fertility\")]))\n",
    "print(f\"Средняя постоянная рожаемость: \",round(np.mean(value[(variant == \"Constant fertility\")]), 3))\n",
    "print(f\"Минимальная рождаемость: \",np.min(value[(variant == \"Constant fertility\")]))\n",
    "print(f\"Среднее отклонение рождаемости: \",round(np.std(value[(variant == \"Constant fertility\")]), 3))\n",
    "\n",
    "print(f\"\\nОписательные статистики смертности\")\n",
    "print(f\"\\nМаксимальная смертность: \",np.max(value[(variant == \"Constant mortality\")]))\n",
    "print(f\"Средняя постоянная смертность: \",round(np.mean(value[(variant == \"Constant mortality\")]), 3))\n",
    "print(f\"Минимальная смертность: \",np.min(value[(variant == \"Constant mortality\")]))\n",
    "print(f\"Среднее отклонение смертности: \",round(np.std(value[(variant == \"Constant mortality\")]), 3))\n"
   ]
  },
  {
   "cell_type": "markdown",
   "metadata": {},
   "source": [
    "Максимальное количество жителей в России за 100 лет достигнет 162 441 155 человек.\n",
    "\n",
    "Максимальная рождаемость равна максимальной смертности. отсюда можно сделать вывод, что есть промежуток времени, когда либо смертность будет превышать рождаемость, либо наоборот.\n",
    "\n",
    "Среднее отклонение числа жителей равна 5 393 453 человека.\n",
    "Среднее отклонение рождаемости 15 702 513 человек.\n",
    "Среднее отклонение смертности 16 587 278 человек."
   ]
  }
 ],
 "metadata": {
  "kernelspec": {
   "display_name": "Python 3 (ipykernel)",
   "language": "python",
   "name": "python3"
  },
  "language_info": {
   "codemirror_mode": {
    "name": "ipython",
    "version": 3
   },
   "file_extension": ".py",
   "mimetype": "text/x-python",
   "name": "python",
   "nbconvert_exporter": "python",
   "pygments_lexer": "ipython3",
   "version": "3.10.9"
  }
 },
 "nbformat": 4,
 "nbformat_minor": 4
}
